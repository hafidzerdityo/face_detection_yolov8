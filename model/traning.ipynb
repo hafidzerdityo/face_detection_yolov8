{
 "cells": [
  {
   "cell_type": "code",
   "execution_count": 1,
   "metadata": {},
   "outputs": [
    {
     "name": "stderr",
     "output_type": "stream",
     "text": [
      "Ultralytics YOLOv8.0.20  Python-3.9.0 torch-1.13.1+cpu CPU\n",
      "Setup complete  (8 CPUs, 15.7 GB RAM, 122.1/145.4 GB disk)\n"
     ]
    }
   ],
   "source": [
    "from ultralytics import YOLO\n",
    "import ultralytics\n",
    "import os \n",
    "\n",
    "os.environ['KMP_DUPLICATE_LIB_OK'] = 'True'\n",
    "ultralytics.checks()"
   ]
  },
  {
   "cell_type": "code",
   "execution_count": 2,
   "metadata": {},
   "outputs": [],
   "source": [
    "model = YOLO(\"yolov8n.pt\")"
   ]
  },
  {
   "cell_type": "code",
   "execution_count": 3,
   "metadata": {},
   "outputs": [
    {
     "name": "stderr",
     "output_type": "stream",
     "text": [
      "Ultralytics YOLOv8.0.20  Python-3.9.0 torch-1.13.1+cpu CPU\n",
      "\u001b[34m\u001b[1myolo\\engine\\trainer: \u001b[0mtask=detect, mode=train, model=yolov8n.yaml, data=datasets/data.yaml, epochs=5, patience=50, batch=16, imgsz=640, save=True, cache=False, device=cpu, workers=2, project=None, name=None, exist_ok=False, pretrained=False, optimizer=SGD, verbose=False, seed=0, deterministic=True, single_cls=False, image_weights=False, rect=False, cos_lr=False, close_mosaic=10, resume=False, overlap_mask=True, mask_ratio=4, dropout=False, val=True, save_json=False, save_hybrid=False, conf=0.001, iou=0.7, max_det=300, half=False, dnn=False, plots=True, source=ultralytics/assets/, show=False, save_txt=False, save_conf=False, save_crop=False, hide_labels=False, hide_conf=False, vid_stride=1, line_thickness=3, visualize=False, augment=False, agnostic_nms=False, classes=None, retina_masks=False, boxes=True, format=torchscript, keras=False, optimize=False, int8=False, dynamic=False, simplify=False, opset=17, workspace=4, nms=False, lr0=0.01, lrf=0.01, momentum=0.937, weight_decay=0.001, warmup_epochs=3.0, warmup_momentum=0.8, warmup_bias_lr=0.1, box=7.5, cls=0.5, dfl=1.5, fl_gamma=0.0, label_smoothing=0.0, nbs=64, hsv_h=0.015, hsv_s=0.7, hsv_v=0.4, degrees=0.0, translate=0.1, scale=0.5, shear=0.0, perspective=0.0, flipud=0.0, fliplr=0.5, mosaic=1.0, mixup=0.0, copy_paste=0.0, cfg=None, v5loader=False, save_dir=runs\\detect\\train3\n",
      "\n",
      "                   from  n    params  module                                       arguments                     \n",
      "  0                  -1  1       464  ultralytics.nn.modules.Conv                  [3, 16, 3, 2]                 \n",
      "  1                  -1  1      4672  ultralytics.nn.modules.Conv                  [16, 32, 3, 2]                \n",
      "  2                  -1  1      7360  ultralytics.nn.modules.C2f                   [32, 32, 1, True]             \n",
      "  3                  -1  1     18560  ultralytics.nn.modules.Conv                  [32, 64, 3, 2]                \n",
      "  4                  -1  2     49664  ultralytics.nn.modules.C2f                   [64, 64, 2, True]             \n",
      "  5                  -1  1     73984  ultralytics.nn.modules.Conv                  [64, 128, 3, 2]               \n",
      "  6                  -1  2    197632  ultralytics.nn.modules.C2f                   [128, 128, 2, True]           \n",
      "  7                  -1  1    295424  ultralytics.nn.modules.Conv                  [128, 256, 3, 2]              \n",
      "  8                  -1  1    460288  ultralytics.nn.modules.C2f                   [256, 256, 1, True]           \n",
      "  9                  -1  1    164608  ultralytics.nn.modules.SPPF                  [256, 256, 5]                 \n",
      " 10                  -1  1         0  torch.nn.modules.upsampling.Upsample         [None, 2, 'nearest']          \n",
      " 11             [-1, 6]  1         0  ultralytics.nn.modules.Concat                [1]                           \n",
      " 12                  -1  1    148224  ultralytics.nn.modules.C2f                   [384, 128, 1]                 \n",
      " 13                  -1  1         0  torch.nn.modules.upsampling.Upsample         [None, 2, 'nearest']          \n",
      " 14             [-1, 4]  1         0  ultralytics.nn.modules.Concat                [1]                           \n",
      " 15                  -1  1     37248  ultralytics.nn.modules.C2f                   [192, 64, 1]                  \n",
      " 16                  -1  1     36992  ultralytics.nn.modules.Conv                  [64, 64, 3, 2]                \n",
      " 17            [-1, 12]  1         0  ultralytics.nn.modules.Concat                [1]                           \n",
      " 18                  -1  1    123648  ultralytics.nn.modules.C2f                   [192, 128, 1]                 \n",
      " 19                  -1  1    147712  ultralytics.nn.modules.Conv                  [128, 128, 3, 2]              \n",
      " 20             [-1, 9]  1         0  ultralytics.nn.modules.Concat                [1]                           \n",
      " 21                  -1  1    493056  ultralytics.nn.modules.C2f                   [384, 256, 1]                 \n",
      " 22        [15, 18, 21]  1    751507  ultralytics.nn.modules.Detect                [1, [64, 128, 256]]           \n",
      "Model summary: 225 layers, 3011043 parameters, 3011027 gradients, 8.2 GFLOPs\n",
      "\n",
      "Transferred 355/355 items from pretrained weights\n",
      "\u001b[34m\u001b[1moptimizer:\u001b[0m SGD(lr=0.01) with parameter groups 57 weight(decay=0.0), 64 weight(decay=0.001), 63 bias\n",
      "\u001b[34m\u001b[1mtrain: \u001b[0mScanning C:\\Users\\hafid\\main\\project\\ml_model\\face_detection_yolov8\\datasets\\train\\labels.cache... 3564 images, 0 backgrounds, 0 corrupt: 100%|██████████| 3564/3564 [00:00<?, ?it/s]\n",
      "\u001b[34m\u001b[1mval: \u001b[0mScanning C:\\Users\\hafid\\main\\project\\ml_model\\face_detection_yolov8\\datasets\\valid\\labels.cache... 1018 images, 0 backgrounds, 0 corrupt: 100%|██████████| 1018/1018 [00:00<?, ?it/s]\n",
      "Image sizes 640 train, 640 val\n",
      "Using 0 dataloader workers\n",
      "Logging results to \u001b[1mruns\\detect\\train3\u001b[0m\n",
      "Starting training for 5 epochs...\n",
      "\n",
      "      Epoch    GPU_mem   box_loss   cls_loss   dfl_loss  Instances       Size\n",
      "  0%|          | 0/223 [00:00<?, ?it/s]"
     ]
    }
   ],
   "source": [
    "model.train(data='datasets/data.yaml', epochs=5, device='cpu', workers=2)"
   ]
  },
  {
   "cell_type": "code",
   "execution_count": null,
   "metadata": {},
   "outputs": [
    {
     "name": "stderr",
     "output_type": "stream",
     "text": [
      "Ultralytics YOLOv8.0.20  Python-3.9.0 torch-1.13.1+cpu CPU\n",
      "\u001b[34m\u001b[1mval: \u001b[0mScanning C:\\Users\\hafid\\main\\project\\ml_model\\face_detection_yolov8\\datasets\\valid\\labels.cache... 1018 images, 0 backgrounds, 0 corrupt: 100%|██████████| 1018/1018 [00:00<?, ?it/s]\n",
      "                 Class     Images  Instances      Box(P          R      mAP50  mAP50-95): 100%|██████████| 64/64 [02:45<00:00,  2.59s/it]\n",
      "                   all       1018       3006      0.864      0.719      0.805      0.497\n",
      "Speed: 2.4ms pre-process, 150.1ms inference, 0.0ms loss, 1.0ms post-process per image\n"
     ]
    }
   ],
   "source": [
    "model.val()"
   ]
  },
  {
   "cell_type": "code",
   "execution_count": null,
   "metadata": {},
   "outputs": [
    {
     "name": "stderr",
     "output_type": "stream",
     "text": [
      "Ultralytics YOLOv8.0.20  Python-3.9.0 torch-1.13.1+cpu CPU\n",
      "\u001b[34m\u001b[1mval: \u001b[0mScanning C:\\Users\\hafid\\main\\project\\ml_model\\face_detection_yolov8\\datasets\\valid\\labels.cache... 1018 images, 0 backgrounds, 0 corrupt: 100%|██████████| 1018/1018 [00:00<?, ?it/s]\n",
      "                 Class     Images  Instances      Box(P          R      mAP50  mAP50-95): 100%|██████████| 64/64 [02:33<00:00,  2.39s/it]\n",
      "                   all       1018       3006      0.864      0.719      0.805      0.497\n",
      "Speed: 2.3ms pre-process, 138.8ms inference, 0.0ms loss, 0.9ms post-process per image\n",
      "Ultralytics YOLOv8.0.20  Python-3.9.0 torch-1.13.1+cpu CPU\n",
      "\n",
      "\u001b[34m\u001b[1mPyTorch:\u001b[0m starting from runs\\detect\\train16\\weights\\best.pt with output shape (1, 5, 8400) (5.9 MB)\n",
      "\u001b[31m\u001b[1mrequirements:\u001b[0m YOLOv8 requirement \"onnx>=1.12.0\" not found, attempting AutoUpdate...\n",
      "Collecting onnx>=1.12.0\n",
      "  Using cached onnx-1.13.0-cp39-cp39-win_amd64.whl (12.2 MB)\n",
      "Requirement already satisfied: typing-extensions>=3.6.2.1 in c:\\users\\hafid\\appdata\\local\\programs\\python\\python39\\lib\\site-packages (from onnx>=1.12.0) (4.4.0)\n",
      "Requirement already satisfied: protobuf<4,>=3.20.2 in c:\\users\\hafid\\appdata\\local\\programs\\python\\python39\\lib\\site-packages (from onnx>=1.12.0) (3.20.3)\n",
      "Requirement already satisfied: numpy>=1.16.6 in c:\\users\\hafid\\appdata\\local\\programs\\python\\python39\\lib\\site-packages (from onnx>=1.12.0) (1.24.2)\n",
      "Installing collected packages: onnx\n",
      "Successfully installed onnx-1.13.0\n",
      "\n",
      "\u001b[31m\u001b[1mrequirements:\u001b[0m 1 package updated per ['onnx>=1.12.0']\n",
      "\u001b[31m\u001b[1mrequirements:\u001b[0m  \u001b[1mRestart runtime or rerun command for updates to take effect\u001b[0m\n",
      "\n",
      "\n",
      "\u001b[34m\u001b[1mONNX:\u001b[0m starting export with onnx 1.13.0...\n",
      "\u001b[34m\u001b[1mONNX:\u001b[0m export success  8.4s, saved as runs\\detect\\train16\\weights\\best.onnx (11.7 MB)\n",
      "\n",
      "Export complete (8.7s)\n",
      "Results saved to \u001b[1mC:\\Users\\hafid\\main\\project\\ml_model\\face_detection_yolov8\\runs\\detect\\train16\\weights\u001b[0m\n",
      "Predict:         yolo task=detect mode=predict model=runs\\detect\\train16\\weights\\best.onnx -WARNING  not yet supported for YOLOv8 exported models\n",
      "Validate:        yolo task=detect mode=val model=runs\\detect\\train16\\weights\\best.onnx -WARNING  not yet supported for YOLOv8 exported models\n",
      "Visualize:       https://netron.app\n"
     ]
    }
   ],
   "source": [
    "metrics = model.val()  # evaluate model performance on the validation set\n",
    "# results = model(\"https://ultralytics.com/images/bus.jpg\")  # predict on an image\n",
    "success = model.export(format=\"onnx\")  # export the model to ONNX format"
   ]
  }
 ],
 "metadata": {
  "kernelspec": {
   "display_name": "venv",
   "language": "python",
   "name": "python3"
  },
  "language_info": {
   "codemirror_mode": {
    "name": "ipython",
    "version": 3
   },
   "file_extension": ".py",
   "mimetype": "text/x-python",
   "name": "python",
   "nbconvert_exporter": "python",
   "pygments_lexer": "ipython3",
   "version": "3.9.0"
  },
  "orig_nbformat": 4,
  "vscode": {
   "interpreter": {
    "hash": "21ceb065c89c10c9f31e7ac6d17553520ed45f59696f3b52ee22697d45b166ef"
   }
  }
 },
 "nbformat": 4,
 "nbformat_minor": 2
}
