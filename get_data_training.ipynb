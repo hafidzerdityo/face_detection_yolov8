{
 "cells": [
  {
   "cell_type": "code",
   "execution_count": 13,
   "metadata": {},
   "outputs": [],
   "source": [
    "import os \n",
    "from dotenv import load_dotenv\n",
    "load_dotenv()\n",
    "api_key = os.getenv('ROBOFLOW', 'key does not exist')\n",
    "api_key\n",
    "from roboflow import Roboflow\n",
    "rf = Roboflow(api_key=api_key)\n",
    "project = rf.workspace(\"hafidz-erdityo-9fzyr\").project(\"face_detection_yolov8_2\")\n",
    "dataset = project.version(1).download(\"yolov8\")\n"
   ]
  }
 ],
 "metadata": {
  "kernelspec": {
   "display_name": "venv",
   "language": "python",
   "name": "python3"
  },
  "language_info": {
   "codemirror_mode": {
    "name": "ipython",
    "version": 3
   },
   "file_extension": ".py",
   "mimetype": "text/x-python",
   "name": "python",
   "nbconvert_exporter": "python",
   "pygments_lexer": "ipython3",
   "version": "3.9.0"
  },
  "orig_nbformat": 4,
  "vscode": {
   "interpreter": {
    "hash": "21ceb065c89c10c9f31e7ac6d17553520ed45f59696f3b52ee22697d45b166ef"
   }
  }
 },
 "nbformat": 4,
 "nbformat_minor": 2
}
